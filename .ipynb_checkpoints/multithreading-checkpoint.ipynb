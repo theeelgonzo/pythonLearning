{
 "cells": [
  {
   "cell_type": "code",
   "execution_count": 1,
   "id": "ec726643",
   "metadata": {},
   "outputs": [],
   "source": [
    "import threading\n",
    "import time"
   ]
  },
  {
   "cell_type": "markdown",
   "id": "e2517be1",
   "metadata": {},
   "source": [
    "# Threads"
   ]
  },
  {
   "cell_type": "code",
   "execution_count": 2,
   "id": "d909e646",
   "metadata": {},
   "outputs": [
    {
     "data": {
      "text/plain": [
       "[0, 1, 4, 9, 16]"
      ]
     },
     "execution_count": 2,
     "metadata": {},
     "output_type": "execute_result"
    }
   ],
   "source": [
    "def longSquare(num):\n",
    "    time.sleep(1)\n",
    "    return num**2\n",
    "[longSquare(n) for n in range(0,5)]"
   ]
  },
  {
   "cell_type": "code",
   "execution_count": 3,
   "id": "90b85b36",
   "metadata": {},
   "outputs": [],
   "source": [
    "t1 = threading.Thread(target=longSquare, args=(1,))\n",
    "t2 = threading.Thread(target=longSquare, args=(2,))\n",
    "\n",
    "t1.start()\n",
    "t2.start()\n",
    "\n",
    "t1.join()\n",
    "t2.join()"
   ]
  },
  {
   "cell_type": "code",
   "execution_count": 6,
   "id": "6a1fd522",
   "metadata": {},
   "outputs": [
    {
     "name": "stdout",
     "output_type": "stream",
     "text": [
      "{2: 4, 1: 1}\n"
     ]
    }
   ],
   "source": [
    "\n",
    "def longSquare(num, results):\n",
    "    time.sleep(1)\n",
    "    results[num] = num** 2\n",
    "results = {}\n",
    "t1 = threading.Thread(target=longSquare, args=(1, results))\n",
    "t2 = threading.Thread(target=longSquare, args=(2, results))\n",
    "\n",
    "t1.start()\n",
    "t2.start()\n",
    "\n",
    "t1.join()\n",
    "t2.join()\n",
    "\n",
    "print(results)"
   ]
  },
  {
   "cell_type": "code",
   "execution_count": 8,
   "id": "02f187b2",
   "metadata": {},
   "outputs": [
    {
     "name": "stdout",
     "output_type": "stream",
     "text": [
      "{0: 0, 1: 1, 2: 4, 4: 16, 3: 9, 7: 49, 8: 64, 6: 36, 5: 25, 11: 121, 10: 100, 9: 81, 12: 144, 13: 169, 14: 196, 17: 289, 18: 324, 16: 256, 15: 225, 19: 361, 21: 441, 22: 484, 23: 529, 24: 576, 20: 400, 25: 625, 27: 729, 26: 676, 28: 784, 31: 961, 30: 900, 29: 841, 32: 1024, 33: 1089, 36: 1296, 34: 1156, 37: 1369, 35: 1225, 38: 1444, 40: 1600, 39: 1521, 42: 1764, 41: 1681, 43: 1849, 46: 2116, 47: 2209, 44: 1936, 45: 2025, 48: 2304, 51: 2601, 52: 2704, 49: 2401, 50: 2500, 57: 3249, 53: 2809, 54: 2916, 55: 3025, 56: 3136, 62: 3844, 63: 3969, 59: 3481, 60: 3600, 61: 3721, 58: 3364, 65: 4225, 67: 4489, 66: 4356, 64: 4096, 70: 4900, 68: 4624, 72: 5184, 73: 5329, 69: 4761, 71: 5041, 74: 5476, 75: 5625, 76: 5776, 78: 6084, 77: 5929, 79: 6241, 80: 6400, 81: 6561, 82: 6724, 83: 6889, 86: 7396, 87: 7569, 84: 7056, 85: 7225, 88: 7744, 89: 7921, 90: 8100, 91: 8281, 92: 8464, 93: 8649, 97: 9409, 94: 8836, 95: 9025, 96: 9216, 98: 9604, 99: 9801}\n"
     ]
    }
   ],
   "source": [
    "def longSquare(num, results):\n",
    "    time.sleep(1)\n",
    "    results[num] = num** 2\n",
    "results = {}\n",
    "threads = [threading.Thread(target=longSquare, args=(n, results)) for n in range(0,100)]\n",
    "[t.start() for t in threads]\n",
    "[t.join() for t in threads]\n",
    "\n",
    "print(results)"
   ]
  },
  {
   "cell_type": "code",
   "execution_count": null,
   "id": "ab03b193",
   "metadata": {},
   "outputs": [],
   "source": []
  },
  {
   "cell_type": "code",
   "execution_count": null,
   "id": "86690f68",
   "metadata": {},
   "outputs": [],
   "source": []
  }
 ],
 "metadata": {
  "kernelspec": {
   "display_name": "Python 3 (ipykernel)",
   "language": "python",
   "name": "python3"
  },
  "language_info": {
   "codemirror_mode": {
    "name": "ipython",
    "version": 3
   },
   "file_extension": ".py",
   "mimetype": "text/x-python",
   "name": "python",
   "nbconvert_exporter": "python",
   "pygments_lexer": "ipython3",
   "version": "3.11.0"
  }
 },
 "nbformat": 4,
 "nbformat_minor": 5
}
