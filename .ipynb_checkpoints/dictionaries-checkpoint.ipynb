{
 "cells": [
  {
   "cell_type": "markdown",
   "id": "375b4977",
   "metadata": {},
   "source": [
    "# Dictionaries"
   ]
  },
  {
   "cell_type": "code",
   "execution_count": 20,
   "id": "76c0893c",
   "metadata": {},
   "outputs": [],
   "source": [
    "from collections import defaultdict"
   ]
  },
  {
   "cell_type": "code",
   "execution_count": 1,
   "id": "f3756a2a",
   "metadata": {},
   "outputs": [
    {
     "data": {
      "text/plain": [
       "{'a': 'aardvark', 'b': 'bear', 'c': 'cat'}"
      ]
     },
     "execution_count": 1,
     "metadata": {},
     "output_type": "execute_result"
    }
   ],
   "source": [
    "animals = {\n",
    "    'a': 'aardvark',\n",
    "    'b': 'bear',\n",
    "    'c': 'cat',\n",
    "    \n",
    "}\n",
    "animals"
   ]
  },
  {
   "cell_type": "code",
   "execution_count": 2,
   "id": "6ceb6648",
   "metadata": {},
   "outputs": [
    {
     "data": {
      "text/plain": [
       "'aardvark'"
      ]
     },
     "execution_count": 2,
     "metadata": {},
     "output_type": "execute_result"
    }
   ],
   "source": [
    "animals['a']"
   ]
  },
  {
   "cell_type": "code",
   "execution_count": 3,
   "id": "d7b42de4",
   "metadata": {},
   "outputs": [],
   "source": [
    "animals['d'] = 'dog'"
   ]
  },
  {
   "cell_type": "code",
   "execution_count": 4,
   "id": "6903a21b",
   "metadata": {},
   "outputs": [
    {
     "data": {
      "text/plain": [
       "{'a': 'aardvark', 'b': 'bear', 'c': 'cat', 'd': 'dog'}"
      ]
     },
     "execution_count": 4,
     "metadata": {},
     "output_type": "execute_result"
    }
   ],
   "source": [
    "animals"
   ]
  },
  {
   "cell_type": "code",
   "execution_count": 5,
   "id": "8ab00a17",
   "metadata": {},
   "outputs": [],
   "source": [
    "animals['a'] = 'antelope'"
   ]
  },
  {
   "cell_type": "code",
   "execution_count": 6,
   "id": "e154e9a2",
   "metadata": {},
   "outputs": [
    {
     "data": {
      "text/plain": [
       "{'a': 'antelope', 'b': 'bear', 'c': 'cat', 'd': 'dog'}"
      ]
     },
     "execution_count": 6,
     "metadata": {},
     "output_type": "execute_result"
    }
   ],
   "source": [
    "animals"
   ]
  },
  {
   "cell_type": "code",
   "execution_count": 7,
   "id": "cbe9fb83",
   "metadata": {},
   "outputs": [
    {
     "data": {
      "text/plain": [
       "dict_keys(['a', 'b', 'c', 'd'])"
      ]
     },
     "execution_count": 7,
     "metadata": {},
     "output_type": "execute_result"
    }
   ],
   "source": [
    "animals.keys()"
   ]
  },
  {
   "cell_type": "code",
   "execution_count": 8,
   "id": "7340d39a",
   "metadata": {},
   "outputs": [
    {
     "data": {
      "text/plain": [
       "dict_values(['antelope', 'bear', 'cat', 'dog'])"
      ]
     },
     "execution_count": 8,
     "metadata": {},
     "output_type": "execute_result"
    }
   ],
   "source": [
    "animals.values()\n"
   ]
  },
  {
   "cell_type": "code",
   "execution_count": 9,
   "id": "cefcfbf8",
   "metadata": {},
   "outputs": [
    {
     "ename": "KeyError",
     "evalue": "'e'",
     "output_type": "error",
     "traceback": [
      "\u001b[0;31m---------------------------------------------------------------------------\u001b[0m",
      "\u001b[0;31mKeyError\u001b[0m                                  Traceback (most recent call last)",
      "Cell \u001b[0;32mIn[9], line 1\u001b[0m\n\u001b[0;32m----> 1\u001b[0m \u001b[43manimals\u001b[49m\u001b[43m[\u001b[49m\u001b[38;5;124;43m'\u001b[39;49m\u001b[38;5;124;43me\u001b[39;49m\u001b[38;5;124;43m'\u001b[39;49m\u001b[43m]\u001b[49m\n",
      "\u001b[0;31mKeyError\u001b[0m: 'e'"
     ]
    }
   ],
   "source": [
    "animals['e']"
   ]
  },
  {
   "cell_type": "code",
   "execution_count": 10,
   "id": "c255a448",
   "metadata": {},
   "outputs": [
    {
     "data": {
      "text/plain": [
       "'antelope'"
      ]
     },
     "execution_count": 10,
     "metadata": {},
     "output_type": "execute_result"
    }
   ],
   "source": [
    "animals.get('a', 'dog')"
   ]
  },
  {
   "cell_type": "code",
   "execution_count": 11,
   "id": "c9b038a6",
   "metadata": {},
   "outputs": [
    {
     "data": {
      "text/plain": [
       "'elephant'"
      ]
     },
     "execution_count": 11,
     "metadata": {},
     "output_type": "execute_result"
    }
   ],
   "source": [
    "animals.get('e', 'elephant')"
   ]
  },
  {
   "cell_type": "code",
   "execution_count": 12,
   "id": "0099802b",
   "metadata": {},
   "outputs": [
    {
     "name": "stdout",
     "output_type": "stream",
     "text": [
      "None\n"
     ]
    }
   ],
   "source": [
    "print(animals.get('e'))"
   ]
  },
  {
   "cell_type": "code",
   "execution_count": 13,
   "id": "930c96d6",
   "metadata": {},
   "outputs": [
    {
     "data": {
      "text/plain": [
       "4"
      ]
     },
     "execution_count": 13,
     "metadata": {},
     "output_type": "execute_result"
    }
   ],
   "source": [
    "len(animals)"
   ]
  },
  {
   "cell_type": "code",
   "execution_count": 14,
   "id": "65b99eab",
   "metadata": {},
   "outputs": [],
   "source": [
    "animals = {\n",
    "    'a': ['aardvark', 'antelope', 'amphibian'\n",
    "    ],\n",
    "    'b': ['bear'],\n",
    "}"
   ]
  },
  {
   "cell_type": "code",
   "execution_count": 15,
   "id": "b79f12c3",
   "metadata": {},
   "outputs": [
    {
     "data": {
      "text/plain": [
       "{'a': ['aardvark', 'antelope', 'amphibian'], 'b': ['bear']}"
      ]
     },
     "execution_count": 15,
     "metadata": {},
     "output_type": "execute_result"
    }
   ],
   "source": [
    "animals"
   ]
  },
  {
   "cell_type": "code",
   "execution_count": 16,
   "id": "dafc1b55",
   "metadata": {},
   "outputs": [],
   "source": [
    "animals['b'].append('bison')"
   ]
  },
  {
   "cell_type": "code",
   "execution_count": 17,
   "id": "c47da5f1",
   "metadata": {},
   "outputs": [
    {
     "data": {
      "text/plain": [
       "{'a': ['aardvark', 'antelope', 'amphibian'], 'b': ['bear', 'bison']}"
      ]
     },
     "execution_count": 17,
     "metadata": {},
     "output_type": "execute_result"
    }
   ],
   "source": [
    "animals\n"
   ]
  },
  {
   "cell_type": "code",
   "execution_count": 18,
   "id": "766a7bc4",
   "metadata": {},
   "outputs": [],
   "source": [
    "animals['c'] = ['cat']"
   ]
  },
  {
   "cell_type": "code",
   "execution_count": 19,
   "id": "271ecc25",
   "metadata": {},
   "outputs": [
    {
     "data": {
      "text/plain": [
       "{'a': ['aardvark', 'antelope', 'amphibian'],\n",
       " 'b': ['bear', 'bison'],\n",
       " 'c': ['cat']}"
      ]
     },
     "execution_count": 19,
     "metadata": {},
     "output_type": "execute_result"
    }
   ],
   "source": [
    "animals"
   ]
  },
  {
   "cell_type": "code",
   "execution_count": null,
   "id": "858a1018",
   "metadata": {},
   "outputs": [],
   "source": []
  },
  {
   "cell_type": "code",
   "execution_count": null,
   "id": "93481ddb",
   "metadata": {},
   "outputs": [],
   "source": []
  },
  {
   "cell_type": "code",
   "execution_count": null,
   "id": "ed89ee2b",
   "metadata": {},
   "outputs": [],
   "source": []
  },
  {
   "cell_type": "markdown",
   "id": "0d5ce137",
   "metadata": {},
   "source": [
    "## The Default Dict"
   ]
  },
  {
   "cell_type": "code",
   "execution_count": 21,
   "id": "dfb9a875",
   "metadata": {},
   "outputs": [],
   "source": [
    "animals = defaultdict(list)"
   ]
  },
  {
   "cell_type": "code",
   "execution_count": 22,
   "id": "eddaa08f",
   "metadata": {},
   "outputs": [
    {
     "data": {
      "text/plain": [
       "defaultdict(list, {})"
      ]
     },
     "execution_count": 22,
     "metadata": {},
     "output_type": "execute_result"
    }
   ],
   "source": [
    "animals"
   ]
  },
  {
   "cell_type": "code",
   "execution_count": 23,
   "id": "e611e9ed",
   "metadata": {},
   "outputs": [],
   "source": [
    "animals['e'].append('elephant')"
   ]
  },
  {
   "cell_type": "code",
   "execution_count": 24,
   "id": "97444317",
   "metadata": {},
   "outputs": [
    {
     "data": {
      "text/plain": [
       "defaultdict(list, {'e': ['elephant']})"
      ]
     },
     "execution_count": 24,
     "metadata": {},
     "output_type": "execute_result"
    }
   ],
   "source": [
    "animals"
   ]
  },
  {
   "cell_type": "code",
   "execution_count": 25,
   "id": "4cb7dac5",
   "metadata": {},
   "outputs": [],
   "source": [
    "animals['e'].append('emu')"
   ]
  },
  {
   "cell_type": "code",
   "execution_count": 26,
   "id": "7ed18499",
   "metadata": {},
   "outputs": [
    {
     "data": {
      "text/plain": [
       "defaultdict(list, {'e': ['elephant', 'emu']})"
      ]
     },
     "execution_count": 26,
     "metadata": {},
     "output_type": "execute_result"
    }
   ],
   "source": [
    "animals"
   ]
  },
  {
   "cell_type": "code",
   "execution_count": 28,
   "id": "f31cf37d",
   "metadata": {},
   "outputs": [
    {
     "data": {
      "text/plain": [
       "[]"
      ]
     },
     "execution_count": 28,
     "metadata": {},
     "output_type": "execute_result"
    }
   ],
   "source": [
    "animals['f']"
   ]
  },
  {
   "cell_type": "code",
   "execution_count": null,
   "id": "7a9122f4",
   "metadata": {},
   "outputs": [],
   "source": []
  }
 ],
 "metadata": {
  "kernelspec": {
   "display_name": "Python 3 (ipykernel)",
   "language": "python",
   "name": "python3"
  },
  "language_info": {
   "codemirror_mode": {
    "name": "ipython",
    "version": 3
   },
   "file_extension": ".py",
   "mimetype": "text/x-python",
   "name": "python",
   "nbconvert_exporter": "python",
   "pygments_lexer": "ipython3",
   "version": "3.11.2"
  }
 },
 "nbformat": 4,
 "nbformat_minor": 5
}
