{
 "cells": [
  {
   "cell_type": "markdown",
   "id": "9ff81bee",
   "metadata": {},
   "source": [
    "# Data Structures"
   ]
  },
  {
   "cell_type": "markdown",
   "id": "1da287eb",
   "metadata": {},
   "source": [
    "## Lists"
   ]
  },
  {
   "cell_type": "code",
   "execution_count": 1,
   "id": "bbd17e46",
   "metadata": {},
   "outputs": [
    {
     "name": "stdout",
     "output_type": "stream",
     "text": [
      "[1, 2, 3, 4]\n"
     ]
    }
   ],
   "source": [
    "myList = [1, 2, 3 , 4]\n",
    "print(myList)"
   ]
  },
  {
   "cell_type": "code",
   "execution_count": 2,
   "id": "8be55b23",
   "metadata": {},
   "outputs": [
    {
     "name": "stdout",
     "output_type": "stream",
     "text": [
      "['list', 'of', 'string']\n"
     ]
    }
   ],
   "source": [
    "myList1 = ['list', 'of', 'string']\n",
    "print(myList1)"
   ]
  },
  {
   "cell_type": "code",
   "execution_count": 4,
   "id": "804f4707",
   "metadata": {},
   "outputs": [],
   "source": [
    "myList2 = [['list', 'of', 'lists'], [1, 2, 3, 4], [True, True, False]]"
   ]
  },
  {
   "cell_type": "code",
   "execution_count": 5,
   "id": "dbd88be6",
   "metadata": {},
   "outputs": [
    {
     "data": {
      "text/plain": [
       "3"
      ]
     },
     "execution_count": 5,
     "metadata": {},
     "output_type": "execute_result"
    }
   ],
   "source": [
    "len(myList2)"
   ]
  },
  {
   "cell_type": "code",
   "execution_count": null,
   "id": "3e1e40f2",
   "metadata": {},
   "outputs": [],
   "source": []
  },
  {
   "cell_type": "markdown",
   "id": "08e4c201",
   "metadata": {},
   "source": [
    "## Sets"
   ]
  },
  {
   "cell_type": "code",
   "execution_count": 6,
   "id": "b25b5d32",
   "metadata": {},
   "outputs": [
    {
     "name": "stdout",
     "output_type": "stream",
     "text": [
      "{1, 2, 3, 4, 5}\n"
     ]
    }
   ],
   "source": [
    "mySet = {1, 2, 3, 4, 5}\n",
    "print(mySet)"
   ]
  },
  {
   "cell_type": "code",
   "execution_count": 7,
   "id": "b6ce546d",
   "metadata": {},
   "outputs": [
    {
     "data": {
      "text/plain": [
       "5"
      ]
     },
     "execution_count": 7,
     "metadata": {},
     "output_type": "execute_result"
    }
   ],
   "source": [
    "len(mySet)"
   ]
  },
  {
   "cell_type": "code",
   "execution_count": 8,
   "id": "edf00c4c",
   "metadata": {},
   "outputs": [
    {
     "data": {
      "text/plain": [
       "set"
      ]
     },
     "execution_count": 8,
     "metadata": {},
     "output_type": "execute_result"
    }
   ],
   "source": [
    "type(mySet)"
   ]
  },
  {
   "cell_type": "code",
   "execution_count": 9,
   "id": "f69abd86",
   "metadata": {},
   "outputs": [],
   "source": [
    "newSet = {1, 1, 1, 2, 2 , 3, 3, 3}"
   ]
  },
  {
   "cell_type": "code",
   "execution_count": 10,
   "id": "01823044",
   "metadata": {},
   "outputs": [
    {
     "data": {
      "text/plain": [
       "3"
      ]
     },
     "execution_count": 10,
     "metadata": {},
     "output_type": "execute_result"
    }
   ],
   "source": [
    "len(newSet)"
   ]
  },
  {
   "cell_type": "code",
   "execution_count": 11,
   "id": "8a2f5e1d",
   "metadata": {},
   "outputs": [
    {
     "name": "stdout",
     "output_type": "stream",
     "text": [
      "{1, 2, 3}\n"
     ]
    }
   ],
   "source": [
    "print(newSet)"
   ]
  },
  {
   "cell_type": "code",
   "execution_count": 12,
   "id": "18cf279e",
   "metadata": {},
   "outputs": [
    {
     "data": {
      "text/plain": [
       "False"
      ]
     },
     "execution_count": 12,
     "metadata": {},
     "output_type": "execute_result"
    }
   ],
   "source": [
    "[1, 2] == [2, 1]"
   ]
  },
  {
   "cell_type": "code",
   "execution_count": 13,
   "id": "ff93a032",
   "metadata": {},
   "outputs": [
    {
     "data": {
      "text/plain": [
       "True"
      ]
     },
     "execution_count": 13,
     "metadata": {},
     "output_type": "execute_result"
    }
   ],
   "source": [
    "{1, 2} == {2, 1}"
   ]
  },
  {
   "cell_type": "markdown",
   "id": "7951d8b9",
   "metadata": {},
   "source": [
    "## Tuples"
   ]
  },
  {
   "cell_type": "code",
   "execution_count": 14,
   "id": "9e93b485",
   "metadata": {},
   "outputs": [],
   "source": [
    "myTuple = (1, 2, 3)"
   ]
  },
  {
   "cell_type": "code",
   "execution_count": 15,
   "id": "e07c5224",
   "metadata": {},
   "outputs": [
    {
     "data": {
      "text/plain": [
       "3"
      ]
     },
     "execution_count": 15,
     "metadata": {},
     "output_type": "execute_result"
    }
   ],
   "source": [
    "len(myTuple)"
   ]
  },
  {
   "cell_type": "code",
   "execution_count": 16,
   "id": "6b883ccd",
   "metadata": {},
   "outputs": [
    {
     "data": {
      "text/plain": [
       "False"
      ]
     },
     "execution_count": 16,
     "metadata": {},
     "output_type": "execute_result"
    }
   ],
   "source": [
    "(1, 2) == (2, 1)"
   ]
  },
  {
   "cell_type": "code",
   "execution_count": 18,
   "id": "10c5cc57",
   "metadata": {},
   "outputs": [],
   "source": [
    "myList.append(6)"
   ]
  },
  {
   "cell_type": "code",
   "execution_count": 20,
   "id": "5cfb741c",
   "metadata": {},
   "outputs": [
    {
     "name": "stdout",
     "output_type": "stream",
     "text": [
      "[1, 2, 3, 4, 6, 6]\n"
     ]
    }
   ],
   "source": [
    "print(myList)"
   ]
  },
  {
   "cell_type": "code",
   "execution_count": 21,
   "id": "727f28df",
   "metadata": {},
   "outputs": [
    {
     "ename": "AttributeError",
     "evalue": "'tuple' object has no attribute 'append'",
     "output_type": "error",
     "traceback": [
      "\u001b[0;31m---------------------------------------------------------------------------\u001b[0m",
      "\u001b[0;31mAttributeError\u001b[0m                            Traceback (most recent call last)",
      "Cell \u001b[0;32mIn[21], line 1\u001b[0m\n\u001b[0;32m----> 1\u001b[0m \u001b[43mmyTuple\u001b[49m\u001b[38;5;241;43m.\u001b[39;49m\u001b[43mappend\u001b[49m(\u001b[38;5;241m4\u001b[39m)\n",
      "\u001b[0;31mAttributeError\u001b[0m: 'tuple' object has no attribute 'append'"
     ]
    }
   ],
   "source": [
    "myTuple.append(4)"
   ]
  },
  {
   "cell_type": "markdown",
   "id": "b01b5e7f",
   "metadata": {},
   "source": [
    "## Dictionaries"
   ]
  },
  {
   "cell_type": "code",
   "execution_count": 22,
   "id": "f5c0fb6c",
   "metadata": {},
   "outputs": [],
   "source": [
    "myDictionary = {\n",
    "    'apple': 'A red fruit',\n",
    "    'bear': 'A scary animal',\n",
    "    'apple': 'Sometimes a green fruit'\n",
    "}"
   ]
  },
  {
   "cell_type": "code",
   "execution_count": 25,
   "id": "01264dd0",
   "metadata": {},
   "outputs": [
    {
     "data": {
      "text/plain": [
       "'A red fruit'"
      ]
     },
     "execution_count": 25,
     "metadata": {},
     "output_type": "execute_result"
    }
   ],
   "source": [
    "myDictionary['apple']"
   ]
  },
  {
   "cell_type": "code",
   "execution_count": 26,
   "id": "2d6f43d5",
   "metadata": {},
   "outputs": [
    {
     "data": {
      "text/plain": [
       "'A red fruit'"
      ]
     },
     "execution_count": 26,
     "metadata": {},
     "output_type": "execute_result"
    }
   ],
   "source": [
    "myDictionary['apple']"
   ]
  },
  {
   "cell_type": "code",
   "execution_count": null,
   "id": "d919daa9",
   "metadata": {},
   "outputs": [],
   "source": []
  },
  {
   "cell_type": "code",
   "execution_count": null,
   "id": "fab5d438",
   "metadata": {},
   "outputs": [],
   "source": []
  }
 ],
 "metadata": {
  "kernelspec": {
   "display_name": "Python 3 (ipykernel)",
   "language": "python",
   "name": "python3"
  },
  "language_info": {
   "codemirror_mode": {
    "name": "ipython",
    "version": 3
   },
   "file_extension": ".py",
   "mimetype": "text/x-python",
   "name": "python",
   "nbconvert_exporter": "python",
   "pygments_lexer": "ipython3",
   "version": "3.11.2"
  }
 },
 "nbformat": 4,
 "nbformat_minor": 5
}
