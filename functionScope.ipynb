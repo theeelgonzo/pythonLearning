{
 "cells": [
  {
   "cell_type": "markdown",
   "id": "551950c2",
   "metadata": {},
   "source": [
    "# Function Scope"
   ]
  },
  {
   "cell_type": "code",
   "execution_count": 1,
   "id": "4841516d",
   "metadata": {},
   "outputs": [
    {
     "name": "stdout",
     "output_type": "stream",
     "text": [
      "(1, 2)\n",
      "{'operation': 'sum'}\n"
     ]
    }
   ],
   "source": [
    " def performOperation(*args, **kwargs):\n",
    "    print(args)\n",
    "    print(kwargs)\n",
    "    \n",
    "performOperation(1,2, operation='sum')"
   ]
  },
  {
   "cell_type": "code",
   "execution_count": null,
   "id": "270398bf",
   "metadata": {},
   "outputs": [],
   "source": []
  },
  {
   "cell_type": "code",
   "execution_count": null,
   "id": "d9f41966",
   "metadata": {},
   "outputs": [],
   "source": []
  },
  {
   "cell_type": "markdown",
   "id": "c703b154",
   "metadata": {},
   "source": [
    "## locals()"
   ]
  },
  {
   "cell_type": "code",
   "execution_count": 2,
   "id": "110f0e7d",
   "metadata": {},
   "outputs": [
    {
     "name": "stdout",
     "output_type": "stream",
     "text": [
      "{'num1': 1, 'num2': 2, 'operation': 'multiply'}\n"
     ]
    }
   ],
   "source": [
    "def performOperation(num1,num2, operation='sum'):\n",
    "    print(locals())\n",
    "    \n",
    "performOperation(1,2,operation='multiply')"
   ]
  },
  {
   "cell_type": "code",
   "execution_count": null,
   "id": "fac5934b",
   "metadata": {},
   "outputs": [],
   "source": []
  },
  {
   "cell_type": "code",
   "execution_count": null,
   "id": "a6434125",
   "metadata": {},
   "outputs": [],
   "source": []
  },
  {
   "cell_type": "markdown",
   "id": "74357d84",
   "metadata": {},
   "source": [
    "## globals()"
   ]
  },
  {
   "cell_type": "code",
   "execution_count": 3,
   "id": "ba2f35b4",
   "metadata": {},
   "outputs": [
    {
     "data": {
      "text/plain": [
       "{'__name__': '__main__',\n",
       " '__doc__': 'Automatically created module for IPython interactive environment',\n",
       " '__package__': None,\n",
       " '__loader__': None,\n",
       " '__spec__': None,\n",
       " '__builtin__': <module 'builtins' (built-in)>,\n",
       " '__builtins__': <module 'builtins' (built-in)>,\n",
       " '_ih': ['',\n",
       "  \"def performOperation(*args, **kwargs):\\n   print(args)\\n   print(kwargs)\\n   \\nperformOperation(1,2, operation='sum')\",\n",
       "  \"def performOperation(num1,num2, operation='sum'):\\n    print(locals())\\n    \\nperformOperation(1,2,operation='multiply')\",\n",
       "  'globals()'],\n",
       " '_oh': {},\n",
       " '_dh': [WindowsPath('C:/Users/jorda/OneDrive/Desktop/lil/pythonEss/pythonLearning')],\n",
       " 'In': ['',\n",
       "  \"def performOperation(*args, **kwargs):\\n   print(args)\\n   print(kwargs)\\n   \\nperformOperation(1,2, operation='sum')\",\n",
       "  \"def performOperation(num1,num2, operation='sum'):\\n    print(locals())\\n    \\nperformOperation(1,2,operation='multiply')\",\n",
       "  'globals()'],\n",
       " 'Out': {},\n",
       " 'get_ipython': <bound method InteractiveShell.get_ipython of <ipykernel.zmqshell.ZMQInteractiveShell object at 0x00000179C27183D0>>,\n",
       " 'exit': <IPython.core.autocall.ZMQExitAutocall at 0x179c2750550>,\n",
       " 'quit': <IPython.core.autocall.ZMQExitAutocall at 0x179c2750550>,\n",
       " 'open': <function io.open(file, mode='r', buffering=-1, encoding=None, errors=None, newline=None, closefd=True, opener=None)>,\n",
       " '_': '',\n",
       " '__': '',\n",
       " '___': '',\n",
       " '_i': \"def performOperation(num1,num2, operation='sum'):\\n    print(locals())\\n    \\nperformOperation(1,2,operation='multiply')\",\n",
       " '_ii': \" def performOperation(*args, **kwargs):\\n    print(args)\\n    print(kwargs)\\n    \\nperformOperation(1,2, operation='sum')\",\n",
       " '_iii': '',\n",
       " '_i1': \" def performOperation(*args, **kwargs):\\n    print(args)\\n    print(kwargs)\\n    \\nperformOperation(1,2, operation='sum')\",\n",
       " 'performOperation': <function __main__.performOperation(num1, num2, operation='sum')>,\n",
       " '_i2': \"def performOperation(num1,num2, operation='sum'):\\n    print(locals())\\n    \\nperformOperation(1,2,operation='multiply')\",\n",
       " '_i3': 'globals()'}"
      ]
     },
     "execution_count": 3,
     "metadata": {},
     "output_type": "execute_result"
    }
   ],
   "source": [
    "globals()"
   ]
  },
  {
   "cell_type": "code",
   "execution_count": null,
   "id": "7a807337",
   "metadata": {},
   "outputs": [],
   "source": []
  },
  {
   "cell_type": "markdown",
   "id": "672ae665",
   "metadata": {},
   "source": [
    "## global and local scope"
   ]
  },
  {
   "cell_type": "code",
   "execution_count": 6,
   "id": "98e6e16f",
   "metadata": {},
   "outputs": [
    {
     "name": "stdout",
     "output_type": "stream",
     "text": [
      "some local data\n",
      "{'varA': 1, 'varB': 2, 'message': 'some local data'}\n",
      "some global data\n",
      "{'varC': 3, 'varB': 4}\n"
     ]
    }
   ],
   "source": [
    "message = 'some global data'\n",
    "def function1(varA, varB):\n",
    "    message = 'some local data'\n",
    "    print(message)\n",
    "    print(locals())\n",
    "    \n",
    "def function2(varC, varB):\n",
    "    print(message)\n",
    "    print(locals())\n",
    "    \n",
    "function1(1,2)\n",
    "function2(3,4)"
   ]
  },
  {
   "cell_type": "code",
   "execution_count": null,
   "id": "45fe32c8",
   "metadata": {},
   "outputs": [],
   "source": []
  }
 ],
 "metadata": {
  "kernelspec": {
   "display_name": "Python 3 (ipykernel)",
   "language": "python",
   "name": "python3"
  },
  "language_info": {
   "codemirror_mode": {
    "name": "ipython",
    "version": 3
   },
   "file_extension": ".py",
   "mimetype": "text/x-python",
   "name": "python",
   "nbconvert_exporter": "python",
   "pygments_lexer": "ipython3",
   "version": "3.11.0"
  }
 },
 "nbformat": 4,
 "nbformat_minor": 5
}
