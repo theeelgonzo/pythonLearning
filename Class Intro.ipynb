{
 "cells": [
  {
   "cell_type": "markdown",
   "id": "0f0914f4",
   "metadata": {},
   "source": [
    "# Class"
   ]
  },
  {
   "cell_type": "markdown",
   "id": "40a1c544",
   "metadata": {},
   "source": [
    "## instance attributes"
   ]
  },
  {
   "cell_type": "code",
   "execution_count": 1,
   "id": "c2b415e1",
   "metadata": {},
   "outputs": [
    {
     "name": "stdout",
     "output_type": "stream",
     "text": [
      "Rover\n",
      "4\n"
     ]
    }
   ],
   "source": [
    "class Dog:\n",
    "    def __init__(self, name):\n",
    "        self.name = name\n",
    "        self.legs = 4\n",
    "        \n",
    "    def speak(self):\n",
    "        print(self.name + ' says: Bark!')\n",
    "        \n",
    "myDog = Dog('Rover')\n",
    "print(myDog.name)\n",
    "print(myDog.legs)"
   ]
  },
  {
   "cell_type": "code",
   "execution_count": null,
   "id": "2c332c10",
   "metadata": {},
   "outputs": [],
   "source": []
  },
  {
   "cell_type": "code",
   "execution_count": null,
   "id": "15a28147",
   "metadata": {},
   "outputs": [],
   "source": []
  },
  {
   "cell_type": "code",
   "execution_count": null,
   "id": "b0e739a7",
   "metadata": {},
   "outputs": [],
   "source": []
  },
  {
   "cell_type": "code",
   "execution_count": null,
   "id": "d3fba3c0",
   "metadata": {},
   "outputs": [],
   "source": []
  },
  {
   "cell_type": "markdown",
   "id": "433d2a6d",
   "metadata": {},
   "source": [
    "## Static Attribute"
   ]
  },
  {
   "cell_type": "code",
   "execution_count": 2,
   "id": "ba668762",
   "metadata": {},
   "outputs": [
    {
     "name": "stdout",
     "output_type": "stream",
     "text": [
      "Rover\n",
      "4\n"
     ]
    }
   ],
   "source": [
    "class Dog:\n",
    "    legs = 4\n",
    "    def __init__(self, name):\n",
    "        self.name = name\n",
    "        \n",
    "        \n",
    "    def speak(self):\n",
    "        print(self.name + ' says: Bark!')\n",
    "        \n",
    "myDog = Dog('Rover')\n",
    "print(myDog.name)\n",
    "print(myDog.legs)"
   ]
  },
  {
   "cell_type": "code",
   "execution_count": 3,
   "id": "4351b2d5",
   "metadata": {},
   "outputs": [
    {
     "data": {
      "text/plain": [
       "4"
      ]
     },
     "execution_count": 3,
     "metadata": {},
     "output_type": "execute_result"
    }
   ],
   "source": [
    "Dog.legs"
   ]
  },
  {
   "cell_type": "code",
   "execution_count": 6,
   "id": "4fd50b86",
   "metadata": {},
   "outputs": [
    {
     "name": "stdout",
     "output_type": "stream",
     "text": [
      "Rover\n",
      "4\n"
     ]
    }
   ],
   "source": [
    "class Dog:\n",
    "    _legs = 4\n",
    "    def __init__(self, name):\n",
    "        self.name = name\n",
    "        \n",
    "    def getLegs(self):\n",
    "        return self._legs\n",
    "    \n",
    "    def speak(self):\n",
    "        print(self.name + ' says: Bark!')\n",
    "        \n",
    "myDog = Dog('Rover')\n",
    "print(myDog.name)\n",
    "print(myDog.getLegs())"
   ]
  },
  {
   "cell_type": "code",
   "execution_count": null,
   "id": "7e7002fe",
   "metadata": {},
   "outputs": [],
   "source": []
  },
  {
   "cell_type": "code",
   "execution_count": null,
   "id": "bdf97ad0",
   "metadata": {},
   "outputs": [],
   "source": []
  },
  {
   "cell_type": "code",
   "execution_count": null,
   "id": "6e618e2a",
   "metadata": {},
   "outputs": [],
   "source": []
  },
  {
   "cell_type": "code",
   "execution_count": null,
   "id": "26a39392",
   "metadata": {},
   "outputs": [],
   "source": []
  },
  {
   "cell_type": "code",
   "execution_count": null,
   "id": "a16a1e7d",
   "metadata": {},
   "outputs": [],
   "source": []
  }
 ],
 "metadata": {
  "kernelspec": {
   "display_name": "Python 3 (ipykernel)",
   "language": "python",
   "name": "python3"
  },
  "language_info": {
   "codemirror_mode": {
    "name": "ipython",
    "version": 3
   },
   "file_extension": ".py",
   "mimetype": "text/x-python",
   "name": "python",
   "nbconvert_exporter": "python",
   "pygments_lexer": "ipython3",
   "version": "3.11.0"
  }
 },
 "nbformat": 4,
 "nbformat_minor": 5
}
