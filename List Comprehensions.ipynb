{
 "cells": [
  {
   "cell_type": "markdown",
   "id": "11a32548",
   "metadata": {},
   "source": [
    "# List Comprehensions"
   ]
  },
  {
   "cell_type": "code",
   "execution_count": 1,
   "id": "140fbb5f",
   "metadata": {},
   "outputs": [
    {
     "data": {
      "text/plain": [
       "[2, 4, 6, 8, 10]"
      ]
     },
     "execution_count": 1,
     "metadata": {},
     "output_type": "execute_result"
    }
   ],
   "source": [
    "myList = [1,2,3,4,5]\n",
    "[2 * item for item in myList]"
   ]
  },
  {
   "cell_type": "code",
   "execution_count": null,
   "id": "7335f6f8",
   "metadata": {},
   "outputs": [],
   "source": []
  },
  {
   "cell_type": "markdown",
   "id": "e376a963",
   "metadata": {},
   "source": [
    "## List Comprehensions with filters"
   ]
  },
  {
   "cell_type": "code",
   "execution_count": 3,
   "id": "1fdb2a8d",
   "metadata": {},
   "outputs": [
    {
     "data": {
      "text/plain": [
       "[0, 10, 20, 30, 40, 50, 60, 70, 80, 90]"
      ]
     },
     "execution_count": 3,
     "metadata": {},
     "output_type": "execute_result"
    }
   ],
   "source": [
    "myList = list(range(100))\n",
    "filteredList = [item for item in myList if item % 10 == 0]\n",
    "filteredList"
   ]
  },
  {
   "cell_type": "code",
   "execution_count": 4,
   "id": "d7d258c6",
   "metadata": {},
   "outputs": [
    {
     "data": {
      "text/plain": [
       "[0,\n",
       " 1,\n",
       " 2,\n",
       " 10,\n",
       " 11,\n",
       " 12,\n",
       " 20,\n",
       " 21,\n",
       " 22,\n",
       " 30,\n",
       " 31,\n",
       " 32,\n",
       " 40,\n",
       " 41,\n",
       " 42,\n",
       " 50,\n",
       " 51,\n",
       " 52,\n",
       " 60,\n",
       " 61,\n",
       " 62,\n",
       " 70,\n",
       " 71,\n",
       " 72,\n",
       " 80,\n",
       " 81,\n",
       " 82,\n",
       " 90,\n",
       " 91,\n",
       " 92]"
      ]
     },
     "execution_count": 4,
     "metadata": {},
     "output_type": "execute_result"
    }
   ],
   "source": [
    "filteredList = [item for item in myList if item % 10 < 3]\n",
    "filteredList"
   ]
  },
  {
   "cell_type": "code",
   "execution_count": 5,
   "id": "bd0a8e50",
   "metadata": {},
   "outputs": [
    {
     "name": "stdout",
     "output_type": "stream",
     "text": [
      "[0, 1, 2, 10, 11, 12, 20, 21, 22, 30, 31, 32, 40, 41, 42, 50, 51, 52, 60, 61, 62, 70, 71, 72, 80, 81, 82, 90, 91, 92]\n"
     ]
    }
   ],
   "source": [
    "print(filteredList)"
   ]
  },
  {
   "cell_type": "code",
   "execution_count": null,
   "id": "4f0ac0f0",
   "metadata": {},
   "outputs": [],
   "source": []
  },
  {
   "cell_type": "markdown",
   "id": "182ca907",
   "metadata": {},
   "source": [
    "## List comprehensions with functions"
   ]
  },
  {
   "cell_type": "code",
   "execution_count": 6,
   "id": "3ad0afb4",
   "metadata": {},
   "outputs": [
    {
     "data": {
      "text/plain": [
       "['My name is Jordan Godwin', ' I live in Kansas City']"
      ]
     },
     "execution_count": 6,
     "metadata": {},
     "output_type": "execute_result"
    }
   ],
   "source": [
    "myString = 'My name is Jordan Godwin. I live in Kansas City'\n",
    "myString.split('.')"
   ]
  },
  {
   "cell_type": "code",
   "execution_count": 8,
   "id": "d7436a76",
   "metadata": {},
   "outputs": [
    {
     "data": {
      "text/plain": [
       "['My', 'name', 'is', 'Jordan', 'Godwin.', 'I', 'live', 'in', 'Kansas', 'City']"
      ]
     },
     "execution_count": 8,
     "metadata": {},
     "output_type": "execute_result"
    }
   ],
   "source": [
    "myString.split(' ')"
   ]
  },
  {
   "cell_type": "code",
   "execution_count": 10,
   "id": "51f9dade",
   "metadata": {},
   "outputs": [
    {
     "data": {
      "text/plain": [
       "['my', 'name', 'is', 'jordan', 'godwin', 'i', 'live', 'in', 'kansas', 'city']"
      ]
     },
     "execution_count": 10,
     "metadata": {},
     "output_type": "execute_result"
    }
   ],
   "source": [
    "def cleanWord(word):\n",
    "    return word.replace('.', '').lower()\n",
    "\n",
    "[cleanWord(word) for word in myString.split()]"
   ]
  },
  {
   "cell_type": "code",
   "execution_count": 13,
   "id": "4d30ef3f",
   "metadata": {},
   "outputs": [
    {
     "data": {
      "text/plain": [
       "['my', 'is', 'i', 'in']"
      ]
     },
     "execution_count": 13,
     "metadata": {},
     "output_type": "execute_result"
    }
   ],
   "source": [
    "[cleanWord(word) for word in myString.split() if len(cleanWord(word)) < 3]"
   ]
  },
  {
   "cell_type": "markdown",
   "id": "34c4ecb2",
   "metadata": {},
   "source": [
    "## Nested List Comprehensions"
   ]
  },
  {
   "cell_type": "code",
   "execution_count": 14,
   "id": "919a2930",
   "metadata": {},
   "outputs": [
    {
     "data": {
      "text/plain": [
       "[['my', 'name', 'is', 'jordan', 'godwin'],\n",
       " ['i', 'live', 'in', 'kansas', 'city']]"
      ]
     },
     "execution_count": 14,
     "metadata": {},
     "output_type": "execute_result"
    }
   ],
   "source": [
    "[[cleanWord(word) for word in sentence.split()] for sentence in myString.split('.')]"
   ]
  },
  {
   "cell_type": "code",
   "execution_count": null,
   "id": "32f0dd1d",
   "metadata": {},
   "outputs": [],
   "source": []
  }
 ],
 "metadata": {
  "kernelspec": {
   "display_name": "Python 3 (ipykernel)",
   "language": "python",
   "name": "python3"
  },
  "language_info": {
   "codemirror_mode": {
    "name": "ipython",
    "version": 3
   },
   "file_extension": ".py",
   "mimetype": "text/x-python",
   "name": "python",
   "nbconvert_exporter": "python",
   "pygments_lexer": "ipython3",
   "version": "3.11.2"
  }
 },
 "nbformat": 4,
 "nbformat_minor": 5
}
