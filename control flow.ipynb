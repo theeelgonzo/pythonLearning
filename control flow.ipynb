{
 "cells": [
  {
   "cell_type": "markdown",
   "id": "d3663331",
   "metadata": {},
   "source": [
    "# Control Flow"
   ]
  },
  {
   "cell_type": "markdown",
   "id": "ae14e8d6",
   "metadata": {},
   "source": [
    "# If/Else Statements"
   ]
  },
  {
   "cell_type": "code",
   "execution_count": 5,
   "id": "0ba9e5f4",
   "metadata": {},
   "outputs": [
    {
     "name": "stdout",
     "output_type": "stream",
     "text": [
      "It is true!\n",
      "Also print this!!\n",
      "Always print this.\n"
     ]
    }
   ],
   "source": [
    "a = True\n",
    "if a:\n",
    "    print('It is true!')\n",
    "    print('Also print this!!')\n",
    "else:\n",
    "    print('It is false!')\n",
    "print('Always print this.')"
   ]
  },
  {
   "cell_type": "code",
   "execution_count": 10,
   "id": "5bd5502a",
   "metadata": {},
   "outputs": [
    {
     "name": "stdout",
     "output_type": "stream",
     "text": [
      "It is true!\n",
      "Also print this!!\n",
      "Always print this.\n"
     ]
    }
   ],
   "source": [
    "a = True\n",
    "b = False\n",
    "c = True\n",
    "if a:\n",
    "    print('It is true!')\n",
    "    print('Also print this!!')\n",
    "    if b:\n",
    "        print('Both are true!')\n",
    "        if c:\n",
    "            print('All three are true!')\n",
    "else:\n",
    "    print('It is false!')\n",
    "print('Always print this.')"
   ]
  },
  {
   "cell_type": "code",
   "execution_count": null,
   "id": "498105c3",
   "metadata": {},
   "outputs": [],
   "source": []
  },
  {
   "cell_type": "markdown",
   "id": "9bb7b2ff",
   "metadata": {},
   "source": [
    "## For Loops"
   ]
  },
  {
   "cell_type": "code",
   "execution_count": 14,
   "id": "04e45e94",
   "metadata": {},
   "outputs": [
    {
     "name": "stdout",
     "output_type": "stream",
     "text": [
      "1\n",
      "2\n",
      "3\n",
      "4\n",
      "5\n"
     ]
    }
   ],
   "source": [
    "a = [1,2,3,4,5]\n",
    "for douglas in a:\n",
    "    print(douglas)"
   ]
  },
  {
   "cell_type": "code",
   "execution_count": 12,
   "id": "9574ebc8",
   "metadata": {},
   "outputs": [
    {
     "data": {
      "text/plain": [
       "True"
      ]
     },
     "execution_count": 12,
     "metadata": {},
     "output_type": "execute_result"
    }
   ],
   "source": [
    "4 in a"
   ]
  },
  {
   "cell_type": "code",
   "execution_count": null,
   "id": "80bc6a79",
   "metadata": {},
   "outputs": [],
   "source": []
  },
  {
   "cell_type": "code",
   "execution_count": null,
   "id": "0345b7bc",
   "metadata": {},
   "outputs": [],
   "source": []
  },
  {
   "cell_type": "markdown",
   "id": "9c45a538",
   "metadata": {},
   "source": [
    "## While Loops"
   ]
  },
  {
   "cell_type": "code",
   "execution_count": null,
   "id": "bd24501e",
   "metadata": {},
   "outputs": [],
   "source": []
  },
  {
   "cell_type": "code",
   "execution_count": null,
   "id": "b760ecb1",
   "metadata": {},
   "outputs": [],
   "source": []
  }
 ],
 "metadata": {
  "kernelspec": {
   "display_name": "Python 3 (ipykernel)",
   "language": "python",
   "name": "python3"
  },
  "language_info": {
   "codemirror_mode": {
    "name": "ipython",
    "version": 3
   },
   "file_extension": ".py",
   "mimetype": "text/x-python",
   "name": "python",
   "nbconvert_exporter": "python",
   "pygments_lexer": "ipython3",
   "version": "3.11.2"
  }
 },
 "nbformat": 4,
 "nbformat_minor": 5
}
