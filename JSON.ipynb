{
 "cells": [
  {
   "cell_type": "code",
   "execution_count": 12,
   "id": "d3bc0815",
   "metadata": {},
   "outputs": [],
   "source": [
    "import json\n",
    "from json import JSONDecodeError, JSONEncoder"
   ]
  },
  {
   "cell_type": "markdown",
   "id": "7c95cf78",
   "metadata": {},
   "source": [
    "# JSON"
   ]
  },
  {
   "cell_type": "markdown",
   "id": "7fc83daf",
   "metadata": {},
   "source": [
    "## Loading JSON"
   ]
  },
  {
   "cell_type": "code",
   "execution_count": 7,
   "id": "a32d211f",
   "metadata": {},
   "outputs": [],
   "source": [
    "jsonString = '{\"a\": \"apple\", \"b\": \"bear\", \"c\": \"cat\"}'\n",
    "try:\n",
    "    json.loads(jsonString)\n",
    "except JSONDecodeError:\n",
    "    print('Could not parse JSON!')"
   ]
  },
  {
   "cell_type": "code",
   "execution_count": null,
   "id": "50a1d5d8",
   "metadata": {},
   "outputs": [],
   "source": []
  },
  {
   "cell_type": "code",
   "execution_count": null,
   "id": "51ca033e",
   "metadata": {},
   "outputs": [],
   "source": []
  },
  {
   "cell_type": "code",
   "execution_count": null,
   "id": "bec85d5e",
   "metadata": {},
   "outputs": [],
   "source": []
  },
  {
   "cell_type": "markdown",
   "id": "c919e13c",
   "metadata": {},
   "source": [
    "## Dumping JSON"
   ]
  },
  {
   "cell_type": "code",
   "execution_count": 9,
   "id": "258227e7",
   "metadata": {},
   "outputs": [
    {
     "data": {
      "text/plain": [
       "'{\"a\": \"apple\", \"b\": \"bear\", \"c\": \"cat\"}'"
      ]
     },
     "execution_count": 9,
     "metadata": {},
     "output_type": "execute_result"
    }
   ],
   "source": [
    "pythonDict = {'a': 'apple', 'b': 'bear', 'c': 'cat',}\n",
    "json.dumps(pythonDict)"
   ]
  },
  {
   "cell_type": "code",
   "execution_count": null,
   "id": "b09b2fc4",
   "metadata": {},
   "outputs": [],
   "source": []
  },
  {
   "cell_type": "code",
   "execution_count": null,
   "id": "4b45b9f2",
   "metadata": {},
   "outputs": [],
   "source": []
  },
  {
   "cell_type": "markdown",
   "id": "f29a95e0",
   "metadata": {},
   "source": [
    "## Customer JSON Decoders"
   ]
  },
  {
   "cell_type": "code",
   "execution_count": 14,
   "id": "093a3e02",
   "metadata": {},
   "outputs": [
    {
     "data": {
      "text/plain": [
       "'{\"a\": \"aardvark\", \"b\": \"bear\", \"c\": \"cat\"}'"
      ]
     },
     "execution_count": 14,
     "metadata": {},
     "output_type": "execute_result"
    }
   ],
   "source": [
    "class Animal:\n",
    "    def __init__(self, name):\n",
    "        self.name = name\n",
    "        \n",
    "class AnimalEncoder(JSONEncoder):\n",
    "    def default(self, o):\n",
    "        if type(o) == Animal:\n",
    "            return o.name\n",
    "        else:\n",
    "            return super().default(o)\n",
    "        \n",
    "pythonDict = {'a': Animal('aardvark'), 'b': Animal('bear'), 'c': Animal('cat'),}\n",
    "json.dumps(pythonDict, cls = AnimalEncoder)"
   ]
  },
  {
   "cell_type": "code",
   "execution_count": null,
   "id": "7e077477",
   "metadata": {},
   "outputs": [],
   "source": []
  },
  {
   "cell_type": "code",
   "execution_count": null,
   "id": "83a206e6",
   "metadata": {},
   "outputs": [],
   "source": []
  },
  {
   "cell_type": "code",
   "execution_count": null,
   "id": "2eca44ca",
   "metadata": {},
   "outputs": [],
   "source": []
  }
 ],
 "metadata": {
  "kernelspec": {
   "display_name": "Python 3 (ipykernel)",
   "language": "python",
   "name": "python3"
  },
  "language_info": {
   "codemirror_mode": {
    "name": "ipython",
    "version": 3
   },
   "file_extension": ".py",
   "mimetype": "text/x-python",
   "name": "python",
   "nbconvert_exporter": "python",
   "pygments_lexer": "ipython3",
   "version": "3.11.0"
  }
 },
 "nbformat": 4,
 "nbformat_minor": 5
}
