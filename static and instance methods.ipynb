{
 "cells": [
  {
   "cell_type": "markdown",
   "id": "1bec7d06",
   "metadata": {},
   "source": [
    "# Static and Instance Methods"
   ]
  },
  {
   "cell_type": "code",
   "execution_count": 1,
   "id": "df8cd914",
   "metadata": {},
   "outputs": [
    {
     "name": "stdout",
     "output_type": "stream",
     "text": [
      "{'want', 'hi', 'is', 'to', 'jordan', 'sentence', 'another', 'here', 'add', 'i', 'am', 'a'}\n"
     ]
    }
   ],
   "source": [
    "class WordSet:\n",
    "    def __init__(self):\n",
    "        self.words = set()\n",
    "        \n",
    "    def addText(self, text):\n",
    "        text = self.cleanText(text)\n",
    "        for word in text.split():\n",
    "            self.words.add(word)\n",
    "        \n",
    "    def cleanText(self, text):\n",
    "        #chaining functions\n",
    "        text = text.replace('!', '').replace('.', '').replace(',', '').replace('\\'', '')\n",
    "        return text.lower()\n",
    "    \n",
    "wordSet = WordSet()\n",
    "\n",
    "wordSet.addText('Hi I am Jordan! Here is a sentence I want to add!')\n",
    "wordSet.addText('Here is another sentence I want to add.')\n",
    "\n",
    "print(wordSet.words)"
   ]
  },
  {
   "cell_type": "code",
   "execution_count": null,
   "id": "bf7cffd5",
   "metadata": {},
   "outputs": [],
   "source": []
  },
  {
   "cell_type": "code",
   "execution_count": null,
   "id": "faabeacc",
   "metadata": {},
   "outputs": [],
   "source": []
  },
  {
   "cell_type": "code",
   "execution_count": null,
   "id": "cc822bd0",
   "metadata": {},
   "outputs": [],
   "source": []
  },
  {
   "cell_type": "code",
   "execution_count": null,
   "id": "fb3dbc29",
   "metadata": {},
   "outputs": [],
   "source": []
  },
  {
   "cell_type": "code",
   "execution_count": null,
   "id": "82a4e974",
   "metadata": {},
   "outputs": [],
   "source": []
  },
  {
   "cell_type": "markdown",
   "id": "5dffef54",
   "metadata": {},
   "source": [
    "## Decorators"
   ]
  },
  {
   "cell_type": "code",
   "execution_count": null,
   "id": "8a4b3317",
   "metadata": {},
   "outputs": [],
   "source": []
  },
  {
   "cell_type": "code",
   "execution_count": null,
   "id": "d9adc4ae",
   "metadata": {},
   "outputs": [],
   "source": []
  },
  {
   "cell_type": "code",
   "execution_count": null,
   "id": "6c87c001",
   "metadata": {},
   "outputs": [],
   "source": []
  },
  {
   "cell_type": "code",
   "execution_count": null,
   "id": "9b7ed7d0",
   "metadata": {},
   "outputs": [],
   "source": []
  }
 ],
 "metadata": {
  "kernelspec": {
   "display_name": "Python 3 (ipykernel)",
   "language": "python",
   "name": "python3"
  },
  "language_info": {
   "codemirror_mode": {
    "name": "ipython",
    "version": 3
   },
   "file_extension": ".py",
   "mimetype": "text/x-python",
   "name": "python",
   "nbconvert_exporter": "python",
   "pygments_lexer": "ipython3",
   "version": "3.11.0"
  }
 },
 "nbformat": 4,
 "nbformat_minor": 5
}
